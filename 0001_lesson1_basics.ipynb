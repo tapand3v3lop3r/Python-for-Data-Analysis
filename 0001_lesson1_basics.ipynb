{
 "cells": [
  {
   "cell_type": "markdown",
   "id": "fab87642-e7b3-45c9-8743-caf1d781d6f8",
   "metadata": {},
   "source": [
    "**Python For Data Analysis**\n",

    "***LESSON 1 - BASICS***\n",
    "\n",
    "In this lesson I will be learning the basics of Python language that will be specifically used for Data Analysis only!!!\n",
    "I will be covering some basic aspects of Python using IPython (Jupyter) notebooks.\n",
    "\n",
    "    1. Syntax of Python (No need to specify... WHY!!!)\n",
    "    2. Data Types used in Python (specifically for Data Analysis)\n",
    "    3. Loops and Control Structures used in Python (generally used for iterating over our data stored in the structures)\n",
    "    4. Some theoretical knowledge of libraries...(1st phase)"
   ]
  },
  {
   "cell_type": "markdown",
   "id": "1eb08e83-435e-45c6-8ff7-63804721ca3d",
   "metadata": {},
   "source": [
    "**Syntax**"
   ]
  },
  {
   "cell_type": "code",
   "execution_count": 1,
   "id": "3db79d6e-ae57-4322-936b-53dd0770f132",
   "metadata": {},
   "outputs": [
    {
     "data": {
      "text/plain": [
       "5"
      ]
     },
     "execution_count": 1,
     "metadata": {},
     "output_type": "execute_result"
    }
   ],
   "source": [
    "3 + 2"
   ]
  },
  {
   "cell_type": "code",
   "execution_count": 3,
   "id": "a331f076-d653-4a51-bcd2-87047c977937",
   "metadata": {},
   "outputs": [
    {
     "data": {
      "text/plain": [
       "340"
      ]
     },
     "execution_count": 3,
     "metadata": {},
     "output_type": "execute_result"
    }
   ],
   "source": [
    "x = 10\n",
    "y = 34\n",
    "z = 23\n",
    "\n",
    "x * y\n"
   ]
  },
  {
   "cell_type": "code",
   "execution_count": 4,
   "id": "ebebea5b-9de1-42ca-a3a2-de1e2eee4d8a",
   "metadata": {},
   "outputs": [
    {
     "data": {
      "text/plain": [
       "33"
      ]
     },
     "execution_count": 4,
     "metadata": {},
     "output_type": "execute_result"
    }
   ],
   "source": [
    "x + z"
   ]
  },
  {
   "cell_type": "code",
   "execution_count": null,
   "id": "0e6be908-4444-40b4-aa2c-e287b4f099ab",
   "metadata": {},
   "outputs": [],
   "source": [
    "x ** y"
   ]
  }
 ],
 "metadata": {
  "kernelspec": {
   "display_name": "Python 3 (ipykernel)",
   "language": "python",
   "name": "python3"
  },
  "language_info": {
   "codemirror_mode": {
    "name": "ipython",
    "version": 3
   },
   "file_extension": ".py",
   "mimetype": "text/x-python",
   "name": "python",
   "nbconvert_exporter": "python",
   "pygments_lexer": "ipython3",
   "version": "3.12.3"
  }
 },
 "nbformat": 4,
 "nbformat_minor": 5
}
